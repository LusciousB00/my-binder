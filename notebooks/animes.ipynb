{
 "cells": [
  {
   "cell_type": "code",
   "execution_count": 1,
   "id": "e75af9ce-e197-4b29-9823-89d7800994ee",
   "metadata": {},
   "outputs": [
    {
     "name": "stdout",
     "output_type": "stream",
     "text": [
      "   animeID                                              title  \\\n",
      "0        1                               Howl's Moving Castle   \n",
      "1        2                                         Death Note   \n",
      "2        3  Problem Children Are Coming from Another World...   \n",
      "3        4                                            BTOOOM!   \n",
      "4        5                                   Sword Art Online   \n",
      "\n",
      "                                 alternative_title   type  year score  \\\n",
      "0                              Howl no Ugoku Shiro  MOVIE  2004  8.41   \n",
      "1                                              NaN     TV  2006  8.63   \n",
      "2  Mondaiji-tachi ga Isekai kara Kuru Sou desu yo?     TV  2013  7.42   \n",
      "3                                          Btooom!     TV  2012  7.34   \n",
      "4                                              NaN     TV  2012   7.5   \n",
      "\n",
      "   episodes                              mal_url  sequel  \\\n",
      "0         1    https://myanimelist.net/anime/431   False   \n",
      "1        37   https://myanimelist.net/anime/1535   False   \n",
      "2        10  https://myanimelist.net/anime/15315   False   \n",
      "3        12  https://myanimelist.net/anime/14345   False   \n",
      "4        25  https://myanimelist.net/anime/11757   False   \n",
      "\n",
      "                                           image_url  \\\n",
      "0  https://cdn.myanimelist.net/images/anime/1470/...   \n",
      "1  https://cdn.myanimelist.net/images/anime/1079/...   \n",
      "2  https://cdn.myanimelist.net/images/anime/12/43...   \n",
      "3  https://cdn.myanimelist.net/images/anime/4/409...   \n",
      "4  https://cdn.myanimelist.net/images/anime/11/39...   \n",
      "\n",
      "                                              genres  \\\n",
      "0  ['Adventure', 'Award Winning', 'Drama', 'Fanta...   \n",
      "1                       ['Supernatural', 'Suspense']   \n",
      "2                    ['Action', 'Comedy', 'Fantasy']   \n",
      "3                   ['Action', 'Sci-Fi', 'Suspense']   \n",
      "4      ['Action', 'Adventure', 'Fantasy', 'Romance']   \n",
      "\n",
      "                                     genres_detailed  \n",
      "0  ['action', 'adventure', 'age gap', 'air force'...  \n",
      "1  ['achronological order', 'acting', 'adapted in...  \n",
      "2  ['action', 'alternative world', 'anthropomorph...  \n",
      "3  ['achronological order', 'action', 'adventure'...  \n",
      "4  ['action', 'action drama', 'adventure', 'alter...  \n"
     ]
    }
   ],
   "source": [
    "import pandas as pd\n",
    "from sqlalchemy import create_engine\n",
    "\n",
    "csv_file_path = '../data/raw/animes.csv'\n",
    "\n",
    "db_file_path = '../data/processed/my_project.db'\n",
    "\n",
    "df = pd.read_csv(csv_file_path)\n",
    "\n",
    "engine = create_engine(f'sqlite:///{db_file_path}')\n",
    "\n",
    "print(df.head())"
   ]
  },
  {
   "cell_type": "code",
   "execution_count": 2,
   "id": "f1aff7c8-44e4-4b59-a69c-58be6137868c",
   "metadata": {},
   "outputs": [
    {
     "data": {
      "text/plain": [
       "20237"
      ]
     },
     "execution_count": 2,
     "metadata": {},
     "output_type": "execute_result"
    }
   ],
   "source": [
    "df.to_sql('my_table', con=engine, if_exists='replace', index=False)"
   ]
  },
  {
   "cell_type": "code",
   "execution_count": null,
   "id": "361de46a-d711-4129-8b31-bdb33e752c03",
   "metadata": {},
   "outputs": [],
   "source": []
  }
 ],
 "metadata": {
  "kernelspec": {
   "display_name": "Python 3 (ipykernel)",
   "language": "python",
   "name": "python3"
  },
  "language_info": {
   "codemirror_mode": {
    "name": "ipython",
    "version": 3
   },
   "file_extension": ".py",
   "mimetype": "text/x-python",
   "name": "python",
   "nbconvert_exporter": "python",
   "pygments_lexer": "ipython3",
   "version": "3.10.16"
  }
 },
 "nbformat": 4,
 "nbformat_minor": 5
}
